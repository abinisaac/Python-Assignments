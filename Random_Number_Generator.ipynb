{
  "cells": [
    {
      "cell_type": "markdown",
      "id": "c586c845",
      "metadata": {
        "id": "c586c845"
      },
      "source": [
        "<b>Creating a random number generator using Linear Congruence Generator</b>"
      ]
    },
    {
      "cell_type": "code",
      "execution_count": null,
      "id": "a6dfa248",
      "metadata": {
        "id": "a6dfa248"
      },
      "outputs": [],
      "source": [
        "seed = 4\n",
        "def rng1(m=7, a=5, c=9):\n",
        "    global seed\n",
        "    seed = (a*seed+c)%m\n",
        "    return seed/m"
      ]
    },
    {
      "cell_type": "code",
      "execution_count": null,
      "id": "3af0b310",
      "metadata": {
        "id": "3af0b310",
        "outputId": "f1c79cb6-80a6-40d0-ce7b-efcdd29e5fb6",
        "colab": {
          "base_uri": "https://localhost:8080/"
        }
      },
      "outputs": [
        {
          "output_type": "execute_result",
          "data": {
            "text/plain": [
              "0.14285714285714285"
            ]
          },
          "metadata": {},
          "execution_count": 15
        }
      ],
      "source": [
        "rng1()"
      ]
    },
    {
      "cell_type": "markdown",
      "id": "bb037b05",
      "metadata": {
        "id": "bb037b05"
      },
      "source": [
        "<b>Lets check random numbers function.</b>"
      ]
    },
    {
      "cell_type": "code",
      "execution_count": null,
      "id": "d2a71704",
      "metadata": {
        "id": "d2a71704",
        "outputId": "bb365d9a-c078-4f99-ccb3-d5015b1ee826",
        "colab": {
          "base_uri": "https://localhost:8080/"
        }
      },
      "outputs": [
        {
          "output_type": "stream",
          "name": "stdout",
          "text": [
            "seed= 1 random number= 0.0\n",
            "seed= 0 random number= 0.2857142857142857\n",
            "seed= 2 random number= 0.7142857142857143\n",
            "seed= 5 random number= 0.8571428571428571\n",
            "seed= 6 random number= 0.5714285714285714\n",
            "seed= 4 random number= 0.14285714285714285\n",
            "seed= 1 random number= 0.0\n",
            "seed= 0 random number= 0.2857142857142857\n",
            "seed= 2 random number= 0.7142857142857143\n",
            "seed= 5 random number= 0.8571428571428571\n",
            "seed= 6 random number= 0.5714285714285714\n",
            "seed= 4 random number= 0.14285714285714285\n",
            "seed= 1 random number= 0.0\n",
            "seed= 0 random number= 0.2857142857142857\n",
            "seed= 2 random number= 0.7142857142857143\n",
            "seed= 5 random number= 0.8571428571428571\n",
            "seed= 6 random number= 0.5714285714285714\n",
            "seed= 4 random number= 0.14285714285714285\n",
            "seed= 1 random number= 0.0\n",
            "seed= 0 random number= 0.2857142857142857\n"
          ]
        }
      ],
      "source": [
        "for i in range(20):\n",
        "    print(\"seed=\",seed,\"random number=\",rng1(m=7,a=5, c=9))"
      ]
    },
    {
      "cell_type": "markdown",
      "id": "b88adc5a",
      "metadata": {
        "id": "b88adc5a"
      },
      "source": [
        "<b>We can see a repetition of the first 5 random numbers Hence this is not a good random generator. We will change the parameters with large numbers to see the random number generation more clearly.</b>"
      ]
    },
    {
      "cell_type": "code",
      "execution_count": null,
      "id": "b15d7253",
      "metadata": {
        "id": "b15d7253"
      },
      "outputs": [],
      "source": [
        "seed = 1\n",
        "def rng(m=2**31-1,a=7**5, c=12345):\n",
        "    global seed\n",
        "    seed = (a*seed+c)%m\n",
        "    return seed/m"
      ]
    },
    {
      "cell_type": "code",
      "execution_count": null,
      "id": "b2d79cfe",
      "metadata": {
        "id": "b2d79cfe",
        "outputId": "4fb1f40f-4ec0-4b40-a4c9-8adcab3a688d",
        "colab": {
          "base_uri": "https://localhost:8080/"
        }
      },
      "outputs": [
        {
          "output_type": "stream",
          "name": "stdout",
          "text": [
            "seed= 1 random number= 1.3574957853916547e-05\n",
            "seed= 29152 random number= 0.2281600652393699\n",
            "seed= 489970009 random number= 0.6862222266784973\n",
            "seed= 1473651010 random number= 0.3369695340921029\n",
            "seed= 723636564 random number= 0.4469652345622728\n",
            "seed= 959850532 random number= 0.144703036707222\n",
            "seed= 310747405 random number= 0.023943686868969204\n",
            "seed= 51418676 random number= 0.421550955354027\n",
            "seed= 905273783 random number= 0.006912383719772279\n",
            "seed= 14844231 random number= 0.17643892680128986\n",
            "seed= 378899710 random number= 0.40904849786732744\n",
            "seed= 878424960 random number= 0.8781094047604638\n",
            "seed= 1885725587 random number= 0.38477155770397353\n",
            "seed= 826290628 random number= 0.8555760792715363\n",
            "seed= 1837335639 random number= 0.6671700653001527\n",
            "seed= 1432736805 random number= 0.1272932482544767\n",
            "seed= 273360169 random number= 0.4176291615784304\n",
            "seed= 896851795 random number= 0.09332439726839047\n",
            "seed= 200412617 random number= 0.5031506384271899\n",
            "seed= 1080507768 random number= 0.4527857943683797\n",
            "seed= 972350089 random number= 0.9708516979454326\n"
          ]
        }
      ],
      "source": [
        "for i in range(21):\n",
        "    print(\"seed=\",seed,\"random number=\",rng()) "
      ]
    },
    {
      "cell_type": "markdown",
      "id": "65ec1ec0",
      "metadata": {
        "id": "65ec1ec0"
      },
      "source": [
        "<b>Above  we can see a better version of random number generation as we dont see any repetition.</b>"
      ]
    },
    {
      "cell_type": "code",
      "execution_count": null,
      "id": "ff64648a",
      "metadata": {
        "id": "ff64648a"
      },
      "outputs": [],
      "source": [
        "import numpy as np\n",
        "N = 100000\n",
        "X = np.zeros(N)\n",
        "\n",
        "seed = 4\n",
        "for i in range(N):\n",
        "    X[i] = rng()"
      ]
    },
    {
      "cell_type": "markdown",
      "id": "fd3eb36e",
      "metadata": {
        "id": "fd3eb36e"
      },
      "source": [
        "<b>Here we are creating a one D matrix of 1 Lakh random numbers to visualize it using graph.</b>"
      ]
    },
    {
      "cell_type": "code",
      "execution_count": null,
      "id": "86ea4062",
      "metadata": {
        "id": "86ea4062",
        "outputId": "0269f4fd-3c00-445e-9bb2-a399efd12f5f",
        "colab": {
          "base_uri": "https://localhost:8080/",
          "height": 265
        }
      },
      "outputs": [
        {
          "output_type": "display_data",
          "data": {
            "text/plain": [
              "<Figure size 432x288 with 1 Axes>"
            ],
            "image/png": "[encoded data removed]"
          },
          "metadata": {
            "needs_background": "light"
          }
        }
      ],
      "source": [
        "import matplotlib.pyplot as plt\n",
        "%matplotlib inline\n",
        "plt.hist(X, bins=10, color = 'blue', edgecolor ='black')\n",
        "plt.show()"
      ]
    },
    {
      "cell_type": "markdown",
      "id": "97e1c41e",
      "metadata": {
        "id": "97e1c41e"
      },
      "source": [
        "<b>We can see uniform distribution here as we expected for the random numbers</b>"
      ]
    },
    {
      "cell_type": "markdown",
      "id": "86d77dce",
      "metadata": {
        "id": "86d77dce"
      },
      "source": [
        "<b>Now lets find the value of PI using our function.</b>"
      ]
    },
    {
      "cell_type": "code",
      "execution_count": null,
      "id": "daddb973",
      "metadata": {
        "id": "daddb973"
      },
      "outputs": [],
      "source": [
        "def run_experiment(N=100000):\n",
        "    points = [(rng(), rng()) for _ in range(N)]\n",
        "    points_inside_circle = [(x,y)  for (x,y) in points if x**2 + y**2 <= 1]\n",
        "    return 4 * len(points_inside_circle) / len(points)"
      ]
    },
    {
      "cell_type": "code",
      "source": [
        "run_experiment()"
      ],
      "metadata": {
        "id": "HD0mCdNl7fJP",
        "colab": {
          "base_uri": "https://localhost:8080/"
        },
        "outputId": "dc257687-baf6-460d-9b8f-132a23a946d8"
      },
      "id": "HD0mCdNl7fJP",
      "execution_count": null,
      "outputs": [
        {
          "output_type": "execute_result",
          "data": {
            "text/plain": [
              "3.14816"
            ]
          },
          "metadata": {},
          "execution_count": 22
        }
      ]
    },
    {
      "cell_type": "markdown",
      "id": "f5abddfa",
      "metadata": {
        "id": "f5abddfa"
      },
      "source": [
        "<b>Yay!! We have got the first 2 digits as we wanted</b>"
      ]
    }
  ],
  "metadata": {
    "kernelspec": {
      "display_name": "Python 3 (ipykernel)",
      "language": "python",
      "name": "python3"
    },
    "language_info": {
      "codemirror_mode": {
        "name": "ipython",
        "version": 3
      },
      "file_extension": ".py",
      "mimetype": "text/x-python",
      "name": "python",
      "nbconvert_exporter": "python",
      "pygments_lexer": "ipython3",
      "version": "3.9.7"
    },
    "colab": {
      "name": "Random Number Generator.ipynb",
      "provenance": []
    }
  },
  "nbformat": 4,
  "nbformat_minor": 5
}